{
 "cells": [
  {
   "cell_type": "code",
   "execution_count": 2,
   "id": "738ac7e5",
   "metadata": {},
   "outputs": [],
   "source": [
    "import pandas as pd\n",
    "import json\n",
    "%matplotlib inline\n",
    "import matplotlib.pyplot as plt\n",
    "import matplotlib.pyplot as plt\n",
    "import numpy as np\n",
    "import pandas as pd\n",
    "import seaborn as sns\n",
    "from sklearn.model_selection import train_test_split\n",
    "from sklearn.preprocessing import StandardScaler\n",
    "\n",
    "# Store dataset in a Pandas Dataframe\n",
    "df = pd.read_csv('Kickstarter.csv')\n",
    "df1 = pd.read_csv('Kickstarter001.csv')\n",
    "df2 = pd.read_csv('Kickstarter002.csv')\n",
    "df_ = pd.concat([df, df1, df2])\n",
    "pd.set_option('display.max_columns', None)"
   ]
  },
  {
   "cell_type": "code",
   "execution_count": null,
   "id": "bd8069b2",
   "metadata": {},
   "outputs": [],
   "source": [
    "df.info()"
   ]
  },
  {
   "cell_type": "code",
   "execution_count": null,
   "id": "de71303e",
   "metadata": {},
   "outputs": [],
   "source": [
    "#effacer les variables non pertinentes pour notre analyse\n",
    "df= df.drop(['converted_pledged_amount','country_displayable_name','creator','currency', \n",
    "                'currency_symbol','currency_trailing_code','current_currency','created_at','disable_communication',\n",
    "                'friends','fx_rate','is_backing','is_starrable','is_starred','permissions','profile', \n",
    "                'slug','source_url','static_usd_rate','urls','pledged','photo','location','spotlight','id',\n",
    "                'name','blurb','usd_exchange_rate'], axis=1)\n",
    "\n",
    "#convertir les variables temporelles en dates et les diviser en colonnes weekday,\n",
    "#month, year\n",
    "df['deadline'] = pd.to_datetime(df['deadline'], unit='s')\n",
    "df['deadline_date'] = df['deadline'].dt.date\n",
    "df['deadline_weekday'] = df['deadline'].dt.weekday\n",
    "df['deadline_month'] = df['deadline'].dt.month\n",
    "df['deadline_year'] = df['deadline'].dt.year\n",
    "\n",
    "df['launched_at'] = pd.to_datetime(df['launched_at'], unit='s')\n",
    "df['launched_at_date'] = df['launched_at'].dt.date\n",
    "df['launched_at_weekday'] = df['launched_at'].dt.weekday\n",
    "df['launched_at_month'] = df['launched_at'].dt.month\n",
    "df['launched_at_year'] = df['launched_at'].dt.year\n",
    "\n",
    "df['state_changed_at'] = pd.to_datetime(df['state_changed_at'], unit='s')\n",
    "df['state_changed_at_date'] = df['state_changed_at'].dt.date\n",
    "df['state_changed_at_weekday'] = df['state_changed_at'].dt.weekday\n",
    "df['state_changed_at_month'] = df['state_changed_at'].dt.month\n",
    "df['state_changed_at_year'] = df['state_changed_at'].dt.year\n",
    "\n",
    "#effacer les variables temporelles\n",
    "df = df.drop(['deadline', 'launched_at', 'state_changed_at'], axis =1)\n",
    "\n",
    "#ne garder que les modalités \"successful\" et \"failed\" de la variable cible 'state'\n",
    "df = df[df['state'].isin(['failed', 'successful'])]\n",
    "\n",
    "#ne garder que les valeurs de la clé \"name\" dans la colonne \"category\"\n",
    "df['category'] = df['category'].apply(json.loads)\n",
    "df['category'] = df['category'].apply(lambda x: x['name'])\n",
    "\n",
    "#arrondir les montants\n",
    "df['usd_pledged'] = df['usd_pledged'].round(2)\n",
    "\n",
    "#Regroupement des données\n",
    "##regrouper les catégories touchant au design dans la catégorie Design\n",
    "df['category']=df['category'].replace(['Product Design','Graphic Design',\n",
    "                                         'Architecture','Interactive Design',\n",
    "                                         'Typography','Letterpress'], 'Design')\n",
    "\n",
    "#regrouper les pays minoritaires dans des zones géographiques\n",
    "df['country']=df['country'].replace(['DE','IT','DK','FR','LU','IE',\n",
    "                                       'ES','PL','CH','NL','BE','SE',\n",
    "                                       'NO', 'AT','GR','SI'], 'Europe')\n",
    "df['country']=df['country'].replace(['JP','HK', 'SG'],'Asia')\n",
    "df['country']=df['country'].replace(['AU','NZ'],'Oceania')\n",
    "\n",
    "#Regrouper les dates avant 2013 dans 2013\n",
    "df['state_changed_at_year']=df['state_changed_at_year'].replace([2009,2010,2011,2012], 2013)\n",
    "df['deadline_year']=df['state_changed_at_year'].replace([2009,2010,2011,2012], 2013)\n",
    "df['launched_at_year']=df['state_changed_at_year'].replace([2009,2010,2011,2012], 2013)"
   ]
  },
  {
   "cell_type": "code",
   "execution_count": null,
   "id": "5bce9618",
   "metadata": {},
   "outputs": [],
   "source": [
    "#aperçu de notre jeu de données\n",
    "df.head()"
   ]
  },
  {
   "cell_type": "code",
   "execution_count": null,
   "id": "bcb1cc53",
   "metadata": {},
   "outputs": [],
   "source": [
    "#vérifier la présence de doublons dans le jeu de données\n",
    "print(\"Il y a\", df.duplicated().sum(), \"doublons dans le jeu de données.\")\n",
    "\n",
    "#se débarrasser des doublons et créer un nouveau dataframe df_ qui servira pour la Visualisation\n",
    "df_ = df.drop_duplicates(subset=None, keep=\"first\").reset_index(drop=True)\n",
    "print(\"Il reste\", df_.duplicated().sum(), \"doublons suite à l'opération de suppression. \\n\\n\")\n",
    "\n",
    "#vérifier la présence de NaN dans le jeu de données\n",
    "print(\"Compte NaN:\",df_.isna().sum().sum())\n",
    "#Il n'y a pas de NaN."
   ]
  },
  {
   "cell_type": "markdown",
   "id": "6e4be15a",
   "metadata": {},
   "source": [
    "### Explorer l'idée d'utiliser la durée des campagnes dans notre analyse"
   ]
  },
  {
   "cell_type": "code",
   "execution_count": null,
   "id": "62aafa69",
   "metadata": {},
   "outputs": [],
   "source": [
    "#créer une nouvelle variabele \"duree\" pour afficher la durée réelle de la campagne\n",
    "df_['duree'] = df_['deadline_date'] - df_['launched_at_date']\n",
    "df_['duree_reelle'] = df_['state_changed_at_date'] - df_['launched_at_date']\n",
    "\n",
    "#déterminer si des campagnes ont été prolongées\n",
    "prolongation = df_[(df_['duree']) != (df_['duree_reelle'])]\n",
    "#conclusion: il n'y a qu'un seul projet pour lequel la campagne a duré plus longtemps que prévu: id 595385287\n",
    "\n",
    "#déterminer si des campagnes ont fini avant la deadline\n",
    "prior = df_[(df_['deadline_date']) != (df_['state_changed_at_date'])]\n",
    "#conclusion: non\n",
    "\n",
    "#calculer la durée moyenne d'une campagne\n",
    "df_['duree_reelle'].mean()"
   ]
  },
  {
   "cell_type": "markdown",
   "id": "3d170e01",
   "metadata": {},
   "source": [
    "Conclusions de l'exploration:\n",
    "\n",
    "Il n'y a qu'un seul projet pour lequel la campagne a duré plus longtemps que prévu: id 595385287\n",
    "\n",
    "Il n'y a aucune campagne qui n'a été clôturée avant sa deadline.\n",
    "\n",
    "La durée moyenne d'une campagne est de 32 jours.\n",
    "\n",
    "Ainsi la durée d'une campagne ne semble pas pertinente pour expliquer sa réussite ou son échec."
   ]
  },
  {
   "cell_type": "code",
   "execution_count": null,
   "id": "68dccc83",
   "metadata": {},
   "outputs": [],
   "source": [
    "#suppression des dernières variables temporelles\n",
    "df_ = df_.drop(['deadline_date','launched_at_date','state_changed_at_date','duree','duree_reelle' ], axis =1)"
   ]
  },
  {
   "cell_type": "code",
   "execution_count": null,
   "id": "22a73185",
   "metadata": {},
   "outputs": [],
   "source": [
    "##exporter df pour l'étape de la modélisation\n",
    "df.to_csv('preprocessed_Modelisation.csv')"
   ]
  },
  {
   "cell_type": "code",
   "execution_count": null,
   "id": "988bcbe8",
   "metadata": {},
   "outputs": [],
   "source": [
    "#aperçu des données de df_ pour la visualisation\n",
    "df_.head(10)"
   ]
  },
  {
   "cell_type": "markdown",
   "id": "63b76a1f",
   "metadata": {},
   "source": [
    "# Visualisation"
   ]
  },
  {
   "cell_type": "code",
   "execution_count": null,
   "id": "35e7bb06",
   "metadata": {},
   "outputs": [],
   "source": [
    "plt.figure(figsize=(10,10))\n",
    "ax = sns.countplot(y='category', data=df_,order = df_['category'].value_counts().index)\n",
    "plt.title('Catégories de projet selon leur popularité auprès\\n des contributeurs \\n',fontsize=18)\n",
    "plt.ylabel('Catégorie', rotation=360, fontsize=14, labelpad=60)\n",
    "plt.xlabel('Nombre de contributeurs',fontsize=14, labelpad=20)\n",
    "plt.show;\n"
   ]
  },
  {
   "cell_type": "markdown",
   "id": "eed38e93",
   "metadata": {},
   "source": [
    "Sur le graphique \"Catégories de projet selon leur popularité auprès des contributeurs\" ci-dessus, on distingue assez clairement que 4 catégories sont plus populaires que les autres : Graphic Novels et Webcomics qui sont à peu près au même niveau puis Design et Cookbooks.\n",
    "\n",
    "On peut ainsi supposer que les projets appartenant à ces 4 catégories ont plus de chances de réussir puisqu'ils convainquent davantage de contributeurs.\n",
    "\n",
    "Pour évaluer la popularité d'une catégorie, on a utilisé le nombre de contributeurs total par catégorie de projet depuis 2009."
   ]
  },
  {
   "cell_type": "code",
   "execution_count": null,
   "id": "bfbb6070",
   "metadata": {},
   "outputs": [],
   "source": [
    "plt.figure(figsize=(10,10))\n",
    "sns.countplot(y=\"category\", data=df_[df_[\"state\"]==\"successful\"],order = df_['category'].value_counts().index)\n",
    "plt.title('Répartition des catégories pour les projets à succès \\n',fontsize=18)\n",
    "plt.ylabel('Catégorie', rotation=360, fontsize=14, labelpad=60)\n",
    "plt.xlabel('Cumul de la catégorie',fontsize=14, labelpad=20)\n",
    "plt.show;"
   ]
  },
  {
   "cell_type": "markdown",
   "id": "c4086ded",
   "metadata": {},
   "source": [
    "Avec ce graphique, nous observons la répartition des catégories les plus à succés\n",
    "\n",
    "la famille création artistique regroupant les catégories \"Graphic Novels, Webcomics et Design\" totalisent prés de 3000 reussites. Au contraire les \"photo, Toys et Plays\" enregistent les succés les plus bas avec un cumul d'environ 200 projets reussis."
   ]
  },
  {
   "cell_type": "code",
   "execution_count": null,
   "id": "1fd6ac84",
   "metadata": {},
   "outputs": [],
   "source": [
    "plt.figure(figsize=(8,8))\n",
    "ax = sns.countplot(x='state',data=df_, hue=\"staff_pick\")\n",
    "for p in ax.patches:\n",
    "    ax.annotate(f'\\n{p.get_height()}', (p.get_x()+0.2, p.get_height()), ha='center', va='top', color='white', size=18)\n",
    "plt.title('Nombre de campagnes réussies et échouées selon leur\\n présence dans la sélection des employés de Kickstarter \\n\\n',\n",
    "          fontsize=18)\n",
    "plt.xlabel('Statut des campagnes', labelpad=20, fontsize=14)\n",
    "plt.ylabel('Nombre de campagnes', labelpad=20,fontsize=14)\n",
    ";"
   ]
  },
  {
   "cell_type": "markdown",
   "id": "182f2666",
   "metadata": {},
   "source": [
    "Sur le graphique ci-haut, \"Nombre de campagnes réussies et échouées selon leur présence dans la sélection des employés de Kickstarter\" on remarque que plus de la moitié des campagnes réussies ont fait partie de la sélection des employés de Kickstarter et qu'une minorité des projets sélectionnés par les employés a échoué.\n",
    "\n",
    "On peut en conclure qu'un projet faisant partie de la sélection des employés de la plateforme a plus de chances de réussir. Cela est probablement dû au fait qu'elle gagne en visibilité auprès des potentiels contributeurs en étant ajouté à leur liste \"coup de coeur\".\n",
    "\n",
    "On pourrait également suggérer que les employés ont tendance à sélectionner des projets ayant initialement de grandes chances de réussir de par leurs connaissances et expériences. Ainsi on peut supposer qu'un projet inspire davantage confiance et envie lorsqu'il est se trouve dans cette liste.\n",
    "\n",
    "Staff_pick = True distingue les projets qui ont été sélectionnés par les employés de Kickstarter de Staff_pick = False, qui indique le contraire."
   ]
  },
  {
   "cell_type": "code",
   "execution_count": null,
   "id": "2b0a0281",
   "metadata": {},
   "outputs": [],
   "source": [
    "#identifier si le montant collecté dépend du nombre de contributeurs\n",
    "plt.figure(figsize=(30,30))\n",
    "sns.relplot(x='backers_count', y='usd_pledged', data=df_, alpha=0.7, height=8)\n",
    "plt.ylabel('Montant collecté en usd', labelpad=20, fontsize=15)\n",
    "plt.xlabel(\"Nombre de contributeurs\", labelpad=20, fontsize=15)\n",
    "plt.title('Relation entre le nombre de contributeurs \\n et le montant total collecté \\n\\n',fontsize=18)\n",
    ";"
   ]
  },
  {
   "cell_type": "markdown",
   "id": "f8d52150",
   "metadata": {},
   "source": [
    "Le graphique qui précède permet de visualiser la relation entre le nombre de contributeurs et le montant collecté par campagne.\n",
    "\n",
    "Nous pouvons remarquer 3 éléments:\n",
    "\n",
    "le montant collecté total est relativement proportionnel au nombre de contributeurs\n",
    "le nombre de contribueurs/campagne est majoritairement inférieur à 5000 pour un montant collecté total qui n'excède qu'assez rarement 500 000K.\n",
    "les données sont donc assez rassemblées hormis quelques outliers qui se trouvent dans la partie haute du graphique. Ces outliers représentent potentiellement des campagnes qui ont très bien fonctionnées au niveau de la collecte de financement et/ou de la participation. Ceci dit il ne faut pas exclure la possibilité qu'il y ait des erreurs dans le jeu de données."
   ]
  },
  {
   "cell_type": "code",
   "execution_count": null,
   "id": "a9268928",
   "metadata": {},
   "outputs": [],
   "source": [
    "#nb de campagnes ayant atteint leur objectif par mois\n",
    "df_['state_changed_at_month'].astype(str)\n",
    "df8 = df_[(df_[\"state\"]==\"successful\") ]\n",
    "\n",
    "plt.figure(figsize=(12,8))\n",
    "sns.countplot(x=df8['state_changed_at_month'])\n",
    "\n",
    "plt.xticks([0,1,2,3,4,5,6,7,8,9,10,11], ['Janv', 'Fév', 'Mars', 'Avril',\n",
    "                                          'Mai', 'Juin', 'Juil', 'Août', 'Sept',\n",
    "                                            'Oct', 'Nov', 'Dec'])\n",
    "plt.xlabel('Mois',fontsize=13, labelpad=20)\n",
    "plt.ylabel('Nombre de campagnes réussies', fontsize=13, labelpad=20)\n",
    "plt.title('Nombre de campagnes clôturées avec succès par mois\\n\\n',fontsize=15)\n",
    ";"
   ]
  },
  {
   "cell_type": "markdown",
   "id": "6bf81088",
   "metadata": {},
   "source": [
    "Le graphique ci-dessus illustre le nombre de campagnes reussies par mois\n",
    "\n",
    "On y observe que les reussites sont au plus bas en début d'années. Cela pourrait s'expliquer par le manque de trésorerie aprés les fêtes de fin d'années. Les reussites décollent à partir de juillet, on passe de 200 reussites en Janvier à plus de 550 en juillet. Les niveaux max sont atteints en Octobre/Novembre, la période où l'on a tendance à investir dans des projets pour defiscaliser avant la fin d'année."
   ]
  },
  {
   "cell_type": "code",
   "execution_count": null,
   "id": "80ee82c2",
   "metadata": {},
   "outputs": [],
   "source": [
    "plt.figure(figsize=(8, 8))\n",
    "sns.countplot(x=\"state_changed_at_year\",data=df_[df_[\"state\"]==\"successful\"])\n",
    "plt.title('Nombre de campagnes réussies au fil des années' ,fontsize=15)\n",
    "plt.xlabel('Années', labelpad=20, fontsize=13)\n",
    "plt.ylabel('Nombre de campagnes à succès', labelpad=20, fontsize=13)\n",
    "plt.show;\n"
   ]
  },
  {
   "cell_type": "markdown",
   "id": "190eebd6",
   "metadata": {},
   "source": [
    "Le graphique ci-haut montre l'évolution du nombre de campagnes reussies au fil des années.\n",
    "\n",
    "On y observe à coup d'oeil une croissance exponentielle de l'activité en une dizaine d'années.\n",
    "\n",
    "2009-2013 se caratcérise par un faible niveau d'activité, 2 explications à cela: phase de demarrage de l'entreprise et collecte des données moins regulières. Le bond intervient en 2014 avec une croissance de plus de 200 projets à succées par rapport à l'année précedante. Depuis la croissance se poursuit, jusqu'à atteidre un niveau record en 2022"
   ]
  },
  {
   "cell_type": "code",
   "execution_count": null,
   "id": "8504590b",
   "metadata": {},
   "outputs": [],
   "source": [
    "plt.figure(figsize=(8, 8))\n",
    "sns.countplot(x=df_['usd_type'],data = df_['usd_pledged'])\n",
    "plt.title('Montants collectés selon sa provenance' ,fontsize=15)\n",
    "plt.xlabel('Provenance des collectes', labelpad=20, fontsize=13)\n",
    "plt.ylabel('Montants des collectes', labelpad=20, fontsize=13)\n",
    "plt.show;"
   ]
  },
  {
   "cell_type": "markdown",
   "id": "5b77bf4e",
   "metadata": {},
   "source": [
    "Par notre graphique ci dessus nous voulons illustrer la répartition des montants collectés selon leur provenance et nous découvrons sans doute que la majorité des montants ont été collectés au niveau national avec près des 2/3 de la collecte. Cela nous montre que les contributeurs sont un peu frileux vis à vis des projets et à l'inverse ils connaissent un vrai engoument au niveau national."
   ]
  },
  {
   "cell_type": "code",
   "execution_count": null,
   "id": "091828db",
   "metadata": {},
   "outputs": [],
   "source": [
    "plt.figure(figsize=(8, 8))\n",
    "sns.countplot(x=\"state_changed_at_weekday\",data=df_[df_[\"state\"]==\"successful\"])\n",
    "plt.title('Nombre de campagnes réussies par jour de la semaine' ,fontsize=15)\n",
    "plt.xlabel('jours de la semaine', labelpad=20, fontsize=13)\n",
    "plt.ylabel('Nombre de campagnes réussies', labelpad=20, fontsize=13)\n",
    "plt.show;\n",
    "\n",
    "plt.xticks([0,1,2,3,4,5,6], ['Dimanche', 'lundi', 'Mardi', 'Mercredi',\n",
    "                                          'Jeudi', 'Vendredi', 'Samedi']);"
   ]
  },
  {
   "cell_type": "markdown",
   "id": "afc712d2",
   "metadata": {},
   "source": [
    "En créant la colonne ' state_change_at_weekday' nous avons voulu vérifier le nombre de campagnes lancée par jour de la semaine.Nous avons un faible démarrage en début de semaine par rapport à la moyenne des campagnes lancée et réussi. Nous constatons que c'est en milieu de semaine, les mercredis et Jeudis que notre compagne a plus de succès avec une forte augmentation les Mercredis ( success day)."
   ]
  }
 ],
 "metadata": {
  "kernelspec": {
   "display_name": "Python 3 (ipykernel)",
   "language": "python",
   "name": "python3"
  },
  "language_info": {
   "codemirror_mode": {
    "name": "ipython",
    "version": 3
   },
   "file_extension": ".py",
   "mimetype": "text/x-python",
   "name": "python",
   "nbconvert_exporter": "python",
   "pygments_lexer": "ipython3",
   "version": "3.9.13"
  }
 },
 "nbformat": 4,
 "nbformat_minor": 5
}
